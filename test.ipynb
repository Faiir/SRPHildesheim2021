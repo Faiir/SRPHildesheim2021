{
 "cells": [
  {
   "cell_type": "code",
   "execution_count": 1,
   "metadata": {},
   "outputs": [],
   "source": [
    "import os\n",
    "import sys\n",
    "module_path = os.path.abspath(os.path.join('..'))\n",
    "if module_path not in sys.path:\n",
    "    sys.path.append(module_path)"
   ]
  },
  {
   "cell_type": "code",
   "execution_count": 2,
   "metadata": {},
   "outputs": [],
   "source": [
    "from robust_active_learning.data.datamanager import Data_manager\n",
    "from robust_active_learning.data.datahandler_for_array import create_dataloader\n",
    "from robust_active_learning.data.deprecated.datahandler_for_array import create_dataloader as create_dataloader_old\n",
    "from robust_active_learning.data.deprecated.datamanager import get_datamanager as get_datamanager_old\n",
    "from robust_active_learning.data.deprecated.sampler import DDU_sampler as DDU_sampler_old"
   ]
  },
  {
   "cell_type": "code",
   "execution_count": 3,
   "metadata": {},
   "outputs": [
    {
     "name": "stderr",
     "output_type": "stream",
     "text": [
      "c:\\Users\\nk\\Python-proj\\SRP\\SRPHildesheim2021\\.venv\\lib\\site-packages\\setuptools\\distutils_patch.py:25: UserWarning: Distutils was imported before Setuptools. This usage is discouraged and may exhibit undesirable behaviors or errors. Please use Setuptools' objects directly or at least import Setuptools first.\n",
      "  warnings.warn(\n"
     ]
    }
   ],
   "source": [
    "from robust_active_learning.experiment_ddu import experiment_ddu\n",
    "\n",
    "basic_settings = {\n",
    "\"oracle_stepsize\": 50,\n",
    "\"oracle_steps\": 3,\n",
    "\"iD\": \"Cifar10\",\n",
    "\"OoD\": [\"FashionMNIST\", \"MNIST\"],\n",
    "\"grayscale\": False,\n",
    "\"subclass\": {\n",
    "    \"do_subclass\": False,\n",
    "    \"iD_classes\": [],\n",
    "    \"OoD_classes\": []\n",
    "},\n",
    "\"labelled_size\": 2000,\n",
    "\"pool_size\": 15000,\n",
    "\"OOD_ratio\": 0.15,\n",
    "\"epochs\": 100,\n",
    "\"batch_size\": 64,\n",
    "\"weight_decay\": 1e-4,\n",
    "\"metric\": \"accuracy\",\n",
    "\"lr\": 0.1,\n",
    "\"nesterov\": False,\n",
    "\"momentum\": 0.9,\n",
    "\"lr_sheduler\": True,\n",
    "\"num_classes\": 10,\n",
    "\"validation_split\": 0.1,\n",
    "\"validation_source\": \"test\",\n",
    "\"criterion\": \"crossentropy\",\n",
    "\"verbose\": 2\n",
    "}\n",
    "exp_settings = {\n",
    "    \"exp_type\": \"ddu\",\n",
    "    \"exp_name\": \"ddu-cifar-015\",\n",
    "    \"plots\": False,\n",
    "    \"model\": \"DDU\",\n",
    "    \"oracle\": \"ddu-sampler\",\n",
    "    \"spectral_normalization\": True,\n",
    "    \"temp\": 1.0\n",
    "}\n"
   ]
  },
  {
   "cell_type": "code",
   "execution_count": 4,
   "metadata": {},
   "outputs": [
    {
     "name": "stdout",
     "output_type": "stream",
     "text": [
      "Directories created\n"
     ]
    }
   ],
   "source": [
    "from torch.utils.tensorboard import SummaryWriter\n",
    "import time\n",
    "\n",
    "def create_log_dirs(log_path):\n",
    "    if os.path.exists(log_path) == False:\n",
    "        os.makedirs(log_path)\n",
    "\n",
    "    status_manager_path = os.path.join(log_path, \"status_manager_dir\")\n",
    "    writer_path = os.path.join(log_path, \"writer_dir\")\n",
    "    log_dir_path = os.path.join(log_path, \"log_dir\")\n",
    "\n",
    "    if os.path.exists(status_manager_path) == False:\n",
    "        os.mkdir(status_manager_path)\n",
    "    if os.path.exists(writer_path) == False:\n",
    "        os.mkdir(writer_path)\n",
    "    if os.path.exists(log_dir_path) == False:\n",
    "        os.mkdir(log_dir_path)\n",
    "\n",
    "    print(\"Directories created\")\n",
    "\n",
    "log_path = os.path.join(\"./logs\")\n",
    "\n",
    "log_path = os.path.join(log_path, time.strftime(\"%m-%d-%H-%M\", time.localtime()))\n",
    "create_log_dirs(log_path)\n",
    "\n",
    "writer = SummaryWriter(os.path.join(log_path, \"writer_dir\"))"
   ]
  },
  {
   "cell_type": "code",
   "execution_count": 5,
   "metadata": {},
   "outputs": [
    {
     "name": "stdout",
     "output_type": "stream",
     "text": [
      "Files already downloaded and verified\n",
      "Files already downloaded and verified\n",
      "(50000, 3, 32, 32) (10000, 3, 32, 32) (140000, 3, 32, 32) (140000,)\n",
      "Base-data shape:  (50000, 3, 32, 32)\n",
      "OOD_data shape:  (140000, 3, 32, 32)\n",
      "Creating New Dataset\n",
      "Experiment_Setup saved\n",
      "Status_manager intialised\n"
     ]
    },
    {
     "name": "stderr",
     "output_type": "stream",
     "text": [
      "  0%|          | 0/100 [00:00<?, ?it/s]"
     ]
    },
    {
     "name": "stdout",
     "output_type": "stream",
     "text": [
      "Using Testing data to create validation dataset, size : 1000\n",
      "\n",
      "Training with device : cuda:0\n",
      "Number of Training Samples :  2000\n",
      "Number of Validation Samples :  1000\n",
      "Number of Epochs :  100\n",
      "======================================================================\n",
      "Layer (type:depth-idx)                        Param #\n",
      "======================================================================\n",
      "├─BatchNorm2d: 1-1                            32\n",
      "├─Conv2d: 1-2                                 432\n",
      "├─Sequential: 1-3                             --\n",
      "|    └─BasicBlock: 2-1                        --\n",
      "|    |    └─Conv2d: 3-1                       2,304\n",
      "|    |    └─BatchNorm2d: 3-2                  32\n",
      "|    |    └─Conv2d: 3-3                       2,304\n",
      "|    |    └─BatchNorm2d: 3-4                  32\n",
      "|    |    └─Sequential: 3-5                   --\n",
      "|    └─BasicBlock: 2-2                        --\n",
      "|    |    └─Conv2d: 3-6                       2,304\n",
      "|    |    └─BatchNorm2d: 3-7                  32\n",
      "|    |    └─Conv2d: 3-8                       2,304\n",
      "|    |    └─BatchNorm2d: 3-9                  32\n",
      "|    |    └─Sequential: 3-10                  --\n",
      "|    └─BasicBlock: 2-3                        --\n",
      "|    |    └─Conv2d: 3-11                      2,304\n",
      "|    |    └─BatchNorm2d: 3-12                 32\n",
      "|    |    └─Conv2d: 3-13                      2,304\n",
      "|    |    └─BatchNorm2d: 3-14                 32\n",
      "|    |    └─Sequential: 3-15                  --\n",
      "├─Sequential: 1-4                             --\n",
      "|    └─BasicBlock: 2-4                        --\n",
      "|    |    └─Conv2d: 3-16                      4,608\n",
      "|    |    └─BatchNorm2d: 3-17                 64\n",
      "|    |    └─Conv2d: 3-18                      9,216\n",
      "|    |    └─BatchNorm2d: 3-19                 64\n",
      "|    |    └─Sequential: 3-20                  --\n",
      "|    └─BasicBlock: 2-5                        --\n",
      "|    |    └─Conv2d: 3-21                      9,216\n",
      "|    |    └─BatchNorm2d: 3-22                 64\n",
      "|    |    └─Conv2d: 3-23                      9,216\n",
      "|    |    └─BatchNorm2d: 3-24                 64\n",
      "|    |    └─Sequential: 3-25                  --\n",
      "|    └─BasicBlock: 2-6                        --\n",
      "|    |    └─Conv2d: 3-26                      9,216\n",
      "|    |    └─BatchNorm2d: 3-27                 64\n",
      "|    |    └─Conv2d: 3-28                      9,216\n",
      "|    |    └─BatchNorm2d: 3-29                 64\n",
      "|    |    └─Sequential: 3-30                  --\n",
      "├─Sequential: 1-5                             --\n",
      "|    └─BasicBlock: 2-7                        --\n",
      "|    |    └─Conv2d: 3-31                      18,432\n",
      "|    |    └─BatchNorm2d: 3-32                 128\n",
      "|    |    └─Conv2d: 3-33                      36,864\n",
      "|    |    └─BatchNorm2d: 3-34                 128\n",
      "|    |    └─Sequential: 3-35                  --\n",
      "|    └─BasicBlock: 2-8                        --\n",
      "|    |    └─Conv2d: 3-36                      36,864\n",
      "|    |    └─BatchNorm2d: 3-37                 128\n",
      "|    |    └─Conv2d: 3-38                      36,864\n",
      "|    |    └─BatchNorm2d: 3-39                 128\n",
      "|    |    └─Sequential: 3-40                  --\n",
      "|    └─BasicBlock: 2-9                        --\n",
      "|    |    └─Conv2d: 3-41                      36,864\n",
      "|    |    └─BatchNorm2d: 3-42                 128\n",
      "|    |    └─Conv2d: 3-43                      36,864\n",
      "|    |    └─BatchNorm2d: 3-44                 128\n",
      "|    |    └─Sequential: 3-45                  --\n",
      "├─Linear: 1-6                                 2,570\n",
      "├─Softmax: 1-7                                --\n",
      "======================================================================\n",
      "Total params: 271,642\n",
      "Trainable params: 271,642\n",
      "Non-trainable params: 0\n",
      "======================================================================\n",
      "INFO ------ Early Stopping Patience not specified using 10\n",
      "\n",
      "Epoch: 1\n"
     ]
    },
    {
     "name": "stderr",
     "output_type": "stream",
     "text": [
      "  1%|          | 1/100 [00:05<09:45,  5.91s/it]"
     ]
    },
    {
     "name": "stdout",
     "output_type": "stream",
     "text": [
      "Validation loss decreased (inf --> 1.919066).  Saving model ...\n",
      "Val_loss: 1.9191 Val_acc : 30.20\n",
      "Train_loss: 2.0977 Train_acc : 22.75\n",
      "\n",
      "Epoch: 2\n"
     ]
    },
    {
     "name": "stderr",
     "output_type": "stream",
     "text": [
      "  2%|▏         | 2/100 [00:10<08:19,  5.09s/it]"
     ]
    },
    {
     "name": "stdout",
     "output_type": "stream",
     "text": [
      "Validation loss decreased (1.919066 --> 1.814286).  Saving model ...\n",
      "Val_loss: 1.8143 Val_acc : 36.80\n",
      "Train_loss: 1.8208 Train_acc : 31.25\n",
      "\n",
      "Epoch: 3\n"
     ]
    },
    {
     "name": "stderr",
     "output_type": "stream",
     "text": [
      "  3%|▎         | 3/100 [00:15<07:52,  4.87s/it]"
     ]
    },
    {
     "name": "stdout",
     "output_type": "stream",
     "text": [
      "Validation loss decreased (1.814286 --> 1.804186).  Saving model ...\n",
      "Val_loss: 1.8042 Val_acc : 35.90\n",
      "Train_loss: 1.7014 Train_acc : 36.55\n",
      "\n",
      "Epoch: 4\n"
     ]
    },
    {
     "name": "stderr",
     "output_type": "stream",
     "text": [
      "  4%|▍         | 4/100 [00:20<08:09,  5.10s/it]"
     ]
    },
    {
     "name": "stdout",
     "output_type": "stream",
     "text": [
      "Validation loss decreased (1.804186 --> 1.562110).  Saving model ...\n",
      "Val_loss: 1.5621 Val_acc : 42.20\n",
      "Train_loss: 1.6209 Train_acc : 38.85\n",
      "\n",
      "Epoch: 5\n"
     ]
    },
    {
     "name": "stderr",
     "output_type": "stream",
     "text": [
      "  5%|▌         | 5/100 [00:24<07:27,  4.71s/it]"
     ]
    },
    {
     "name": "stdout",
     "output_type": "stream",
     "text": [
      "EarlyStopping counter: 1 out of 10\n",
      "Val_loss: 1.8295 Val_acc : 37.90\n",
      "Train_loss: 1.5413 Train_acc : 41.15\n",
      "\n",
      "Epoch: 6\n"
     ]
    },
    {
     "name": "stderr",
     "output_type": "stream",
     "text": [
      "  6%|▌         | 6/100 [00:29<07:19,  4.68s/it]"
     ]
    },
    {
     "name": "stdout",
     "output_type": "stream",
     "text": [
      "EarlyStopping counter: 2 out of 10\n",
      "Val_loss: 1.6037 Val_acc : 41.90\n",
      "Train_loss: 1.4724 Train_acc : 45.65\n",
      "\n",
      "Epoch: 7\n"
     ]
    },
    {
     "name": "stderr",
     "output_type": "stream",
     "text": [
      "  7%|▋         | 7/100 [00:33<07:14,  4.68s/it]"
     ]
    },
    {
     "name": "stdout",
     "output_type": "stream",
     "text": [
      "Validation loss decreased (1.562110 --> 1.541520).  Saving model ...\n",
      "Val_loss: 1.5415 Val_acc : 45.80\n",
      "Train_loss: 1.3740 Train_acc : 50.20\n",
      "\n",
      "Epoch: 8\n"
     ]
    },
    {
     "name": "stderr",
     "output_type": "stream",
     "text": [
      "  8%|▊         | 8/100 [00:38<07:06,  4.64s/it]"
     ]
    },
    {
     "name": "stdout",
     "output_type": "stream",
     "text": [
      "Validation loss decreased (1.541520 --> 1.538332).  Saving model ...\n",
      "Val_loss: 1.5383 Val_acc : 47.30\n",
      "Train_loss: 1.3377 Train_acc : 49.05\n",
      "\n",
      "Epoch: 9\n"
     ]
    },
    {
     "name": "stderr",
     "output_type": "stream",
     "text": [
      "  9%|▉         | 9/100 [00:42<06:53,  4.55s/it]"
     ]
    },
    {
     "name": "stdout",
     "output_type": "stream",
     "text": [
      "EarlyStopping counter: 1 out of 10\n",
      "Val_loss: 1.6447 Val_acc : 42.70\n",
      "Train_loss: 1.2851 Train_acc : 53.15\n",
      "\n",
      "Epoch: 10\n"
     ]
    },
    {
     "name": "stderr",
     "output_type": "stream",
     "text": [
      " 10%|█         | 10/100 [00:47<06:53,  4.60s/it]"
     ]
    },
    {
     "name": "stdout",
     "output_type": "stream",
     "text": [
      "Validation loss decreased (1.538332 --> 1.398474).  Saving model ...\n",
      "Val_loss: 1.3985 Val_acc : 49.40\n",
      "Train_loss: 1.2578 Train_acc : 54.45\n",
      "\n",
      "Epoch: 11\n"
     ]
    },
    {
     "name": "stderr",
     "output_type": "stream",
     "text": [
      " 11%|█         | 11/100 [00:52<06:57,  4.69s/it]"
     ]
    },
    {
     "name": "stdout",
     "output_type": "stream",
     "text": [
      "Validation loss decreased (1.398474 --> 1.389058).  Saving model ...\n",
      "Val_loss: 1.3891 Val_acc : 50.30\n",
      "Train_loss: 1.2493 Train_acc : 54.00\n",
      "\n",
      "Epoch: 12\n"
     ]
    },
    {
     "name": "stderr",
     "output_type": "stream",
     "text": [
      " 12%|█▏        | 12/100 [00:56<06:51,  4.68s/it]"
     ]
    },
    {
     "name": "stdout",
     "output_type": "stream",
     "text": [
      "EarlyStopping counter: 1 out of 10\n",
      "Val_loss: 1.4785 Val_acc : 48.80\n",
      "Train_loss: 1.2154 Train_acc : 55.15\n",
      "\n",
      "Epoch: 13\n"
     ]
    },
    {
     "name": "stderr",
     "output_type": "stream",
     "text": [
      " 13%|█▎        | 13/100 [01:01<06:35,  4.55s/it]"
     ]
    },
    {
     "name": "stdout",
     "output_type": "stream",
     "text": [
      "EarlyStopping counter: 2 out of 10\n",
      "Val_loss: 1.4015 Val_acc : 51.90\n",
      "Train_loss: 1.1386 Train_acc : 58.20\n",
      "\n",
      "Epoch: 14\n"
     ]
    },
    {
     "name": "stderr",
     "output_type": "stream",
     "text": [
      " 14%|█▍        | 14/100 [01:05<06:19,  4.42s/it]"
     ]
    },
    {
     "name": "stdout",
     "output_type": "stream",
     "text": [
      "EarlyStopping counter: 3 out of 10\n",
      "Val_loss: 1.4310 Val_acc : 50.70\n",
      "Train_loss: 1.1234 Train_acc : 58.20\n",
      "\n",
      "Epoch: 15\n"
     ]
    },
    {
     "name": "stderr",
     "output_type": "stream",
     "text": [
      " 15%|█▌        | 15/100 [01:09<06:13,  4.40s/it]"
     ]
    },
    {
     "name": "stdout",
     "output_type": "stream",
     "text": [
      "EarlyStopping counter: 4 out of 10\n",
      "Val_loss: 1.4132 Val_acc : 50.70\n",
      "Train_loss: 1.0835 Train_acc : 61.25\n",
      "\n",
      "Epoch: 16\n"
     ]
    },
    {
     "name": "stderr",
     "output_type": "stream",
     "text": [
      " 16%|█▌        | 16/100 [01:14<06:07,  4.38s/it]"
     ]
    },
    {
     "name": "stdout",
     "output_type": "stream",
     "text": [
      "Validation loss decreased (1.389058 --> 1.360495).  Saving model ...\n",
      "Val_loss: 1.3605 Val_acc : 52.00\n",
      "Train_loss: 1.0315 Train_acc : 61.90\n",
      "\n",
      "Epoch: 17\n"
     ]
    },
    {
     "name": "stderr",
     "output_type": "stream",
     "text": [
      " 17%|█▋        | 17/100 [01:18<06:01,  4.36s/it]"
     ]
    },
    {
     "name": "stdout",
     "output_type": "stream",
     "text": [
      "Validation loss decreased (1.360495 --> 1.185467).  Saving model ...\n",
      "Val_loss: 1.1855 Val_acc : 57.90\n",
      "Train_loss: 1.0349 Train_acc : 62.60\n",
      "\n",
      "Epoch: 18\n"
     ]
    },
    {
     "name": "stderr",
     "output_type": "stream",
     "text": [
      " 18%|█▊        | 18/100 [01:22<05:52,  4.30s/it]"
     ]
    },
    {
     "name": "stdout",
     "output_type": "stream",
     "text": [
      "EarlyStopping counter: 1 out of 10\n",
      "Val_loss: 1.4811 Val_acc : 49.40\n",
      "Train_loss: 0.9784 Train_acc : 63.80\n",
      "\n",
      "Epoch: 19\n"
     ]
    },
    {
     "name": "stderr",
     "output_type": "stream",
     "text": [
      " 19%|█▉        | 19/100 [01:26<05:46,  4.28s/it]"
     ]
    },
    {
     "name": "stdout",
     "output_type": "stream",
     "text": [
      "EarlyStopping counter: 2 out of 10\n",
      "Val_loss: 1.2349 Val_acc : 57.60\n",
      "Train_loss: 0.9858 Train_acc : 63.85\n",
      "\n",
      "Epoch: 20\n"
     ]
    },
    {
     "name": "stderr",
     "output_type": "stream",
     "text": [
      " 20%|██        | 20/100 [01:31<05:42,  4.28s/it]"
     ]
    },
    {
     "name": "stdout",
     "output_type": "stream",
     "text": [
      "EarlyStopping counter: 3 out of 10\n",
      "Val_loss: 1.8333 Val_acc : 48.80\n",
      "Train_loss: 0.9865 Train_acc : 65.25\n",
      "\n",
      "Epoch: 21\n"
     ]
    },
    {
     "name": "stderr",
     "output_type": "stream",
     "text": [
      " 21%|██        | 21/100 [01:35<05:46,  4.38s/it]"
     ]
    },
    {
     "name": "stdout",
     "output_type": "stream",
     "text": [
      "EarlyStopping counter: 4 out of 10\n",
      "Val_loss: 1.2539 Val_acc : 56.10\n",
      "Train_loss: 0.9195 Train_acc : 65.80\n",
      "\n",
      "Epoch: 22\n"
     ]
    },
    {
     "name": "stderr",
     "output_type": "stream",
     "text": [
      " 22%|██▏       | 22/100 [01:40<06:03,  4.65s/it]"
     ]
    },
    {
     "name": "stdout",
     "output_type": "stream",
     "text": [
      "EarlyStopping counter: 5 out of 10\n",
      "Val_loss: 1.2069 Val_acc : 58.20\n",
      "Train_loss: 0.8862 Train_acc : 67.10\n",
      "\n",
      "Epoch: 23\n"
     ]
    },
    {
     "name": "stderr",
     "output_type": "stream",
     "text": [
      " 23%|██▎       | 23/100 [01:45<05:49,  4.54s/it]"
     ]
    },
    {
     "name": "stdout",
     "output_type": "stream",
     "text": [
      "EarlyStopping counter: 6 out of 10\n",
      "Epoch    23: reducing learning rate of group 0 to 1.0000e-04.\n",
      "Val_loss: 1.9474 Val_acc : 42.80\n",
      "Train_loss: 0.8762 Train_acc : 68.50\n",
      "\n",
      "Epoch: 24\n"
     ]
    },
    {
     "name": "stderr",
     "output_type": "stream",
     "text": [
      " 24%|██▍       | 24/100 [01:49<05:49,  4.59s/it]"
     ]
    },
    {
     "name": "stdout",
     "output_type": "stream",
     "text": [
      "Validation loss decreased (1.185467 --> 1.037402).  Saving model ...\n",
      "Val_loss: 1.0374 Val_acc : 63.80\n",
      "Train_loss: 0.7786 Train_acc : 71.75\n",
      "\n",
      "Epoch: 25\n"
     ]
    },
    {
     "name": "stderr",
     "output_type": "stream",
     "text": [
      " 25%|██▌       | 25/100 [01:53<05:28,  4.38s/it]"
     ]
    },
    {
     "name": "stdout",
     "output_type": "stream",
     "text": [
      "Validation loss decreased (1.037402 --> 1.026214).  Saving model ...\n",
      "Val_loss: 1.0262 Val_acc : 64.30\n",
      "Train_loss: 0.6943 Train_acc : 75.85\n",
      "\n",
      "Epoch: 26\n"
     ]
    },
    {
     "name": "stderr",
     "output_type": "stream",
     "text": [
      " 26%|██▌       | 26/100 [01:57<05:14,  4.25s/it]"
     ]
    },
    {
     "name": "stdout",
     "output_type": "stream",
     "text": [
      "Validation loss decreased (1.026214 --> 1.025563).  Saving model ...\n",
      "Val_loss: 1.0256 Val_acc : 63.20\n",
      "Train_loss: 0.6948 Train_acc : 76.45\n",
      "\n",
      "Epoch: 27\n"
     ]
    },
    {
     "name": "stderr",
     "output_type": "stream",
     "text": [
      " 27%|██▋       | 27/100 [02:01<05:09,  4.23s/it]"
     ]
    },
    {
     "name": "stdout",
     "output_type": "stream",
     "text": [
      "Validation loss decreased (1.025563 --> 1.010639).  Saving model ...\n",
      "Val_loss: 1.0106 Val_acc : 63.70\n",
      "Train_loss: 0.6563 Train_acc : 77.95\n",
      "\n",
      "Epoch: 28\n"
     ]
    },
    {
     "name": "stderr",
     "output_type": "stream",
     "text": [
      " 28%|██▊       | 28/100 [02:06<05:09,  4.30s/it]"
     ]
    },
    {
     "name": "stdout",
     "output_type": "stream",
     "text": [
      "Validation loss decreased (1.010639 --> 0.997719).  Saving model ...\n",
      "Val_loss: 0.9977 Val_acc : 65.10\n",
      "Train_loss: 0.6299 Train_acc : 77.80\n",
      "\n",
      "Epoch: 29\n"
     ]
    },
    {
     "name": "stderr",
     "output_type": "stream",
     "text": [
      " 29%|██▉       | 29/100 [02:11<05:18,  4.49s/it]"
     ]
    },
    {
     "name": "stdout",
     "output_type": "stream",
     "text": [
      "EarlyStopping counter: 1 out of 10\n",
      "Val_loss: 1.0249 Val_acc : 64.40\n",
      "Train_loss: 0.6431 Train_acc : 77.10\n",
      "\n",
      "Epoch: 30\n"
     ]
    },
    {
     "name": "stderr",
     "output_type": "stream",
     "text": [
      " 30%|███       | 30/100 [02:15<05:08,  4.41s/it]"
     ]
    },
    {
     "name": "stdout",
     "output_type": "stream",
     "text": [
      "EarlyStopping counter: 2 out of 10\n",
      "Val_loss: 1.0056 Val_acc : 64.30\n",
      "Train_loss: 0.6131 Train_acc : 78.70\n",
      "\n",
      "Epoch: 31\n"
     ]
    },
    {
     "name": "stderr",
     "output_type": "stream",
     "text": [
      " 31%|███       | 31/100 [02:19<05:04,  4.41s/it]"
     ]
    },
    {
     "name": "stdout",
     "output_type": "stream",
     "text": [
      "EarlyStopping counter: 3 out of 10\n",
      "Val_loss: 1.0018 Val_acc : 65.00\n",
      "Train_loss: 0.6106 Train_acc : 78.55\n",
      "\n",
      "Epoch: 32\n"
     ]
    },
    {
     "name": "stderr",
     "output_type": "stream",
     "text": [
      " 32%|███▏      | 32/100 [02:24<04:56,  4.36s/it]"
     ]
    },
    {
     "name": "stdout",
     "output_type": "stream",
     "text": [
      "EarlyStopping counter: 4 out of 10\n",
      "Val_loss: 0.9983 Val_acc : 65.10\n",
      "Train_loss: 0.6183 Train_acc : 78.35\n",
      "\n",
      "Epoch: 33\n"
     ]
    },
    {
     "name": "stderr",
     "output_type": "stream",
     "text": [
      " 33%|███▎      | 33/100 [02:28<04:50,  4.34s/it]"
     ]
    },
    {
     "name": "stdout",
     "output_type": "stream",
     "text": [
      "EarlyStopping counter: 5 out of 10\n",
      "Val_loss: 1.0057 Val_acc : 65.20\n",
      "Train_loss: 0.5800 Train_acc : 79.65\n",
      "\n",
      "Epoch: 34\n"
     ]
    },
    {
     "name": "stderr",
     "output_type": "stream",
     "text": [
      " 34%|███▍      | 34/100 [02:32<04:47,  4.35s/it]"
     ]
    },
    {
     "name": "stdout",
     "output_type": "stream",
     "text": [
      "EarlyStopping counter: 6 out of 10\n",
      "Epoch    34: reducing learning rate of group 0 to 1.0000e-05.\n",
      "Val_loss: 1.0065 Val_acc : 64.50\n",
      "Train_loss: 0.5732 Train_acc : 81.05\n",
      "\n",
      "Epoch: 35\n"
     ]
    },
    {
     "name": "stderr",
     "output_type": "stream",
     "text": [
      " 35%|███▌      | 35/100 [02:37<04:57,  4.58s/it]"
     ]
    },
    {
     "name": "stdout",
     "output_type": "stream",
     "text": [
      "EarlyStopping counter: 7 out of 10\n",
      "Val_loss: 1.0130 Val_acc : 64.10\n",
      "Train_loss: 0.5616 Train_acc : 81.35\n",
      "\n",
      "Epoch: 36\n"
     ]
    },
    {
     "name": "stderr",
     "output_type": "stream",
     "text": [
      " 36%|███▌      | 36/100 [02:42<04:53,  4.58s/it]"
     ]
    },
    {
     "name": "stdout",
     "output_type": "stream",
     "text": [
      "EarlyStopping counter: 8 out of 10\n",
      "Val_loss: 1.0084 Val_acc : 63.70\n",
      "Train_loss: 0.5607 Train_acc : 81.25\n",
      "\n",
      "Epoch: 37\n"
     ]
    },
    {
     "name": "stderr",
     "output_type": "stream",
     "text": [
      " 37%|███▋      | 37/100 [02:46<04:42,  4.48s/it]"
     ]
    },
    {
     "name": "stdout",
     "output_type": "stream",
     "text": [
      "EarlyStopping counter: 9 out of 10\n",
      "Val_loss: 1.0083 Val_acc : 64.20\n",
      "Train_loss: 0.5459 Train_acc : 81.05\n",
      "\n",
      "Epoch: 38\n"
     ]
    },
    {
     "name": "stderr",
     "output_type": "stream",
     "text": [
      " 37%|███▋      | 37/100 [02:51<04:51,  4.62s/it]"
     ]
    },
    {
     "name": "stdout",
     "output_type": "stream",
     "text": [
      "EarlyStopping counter: 10 out of 10\n",
      "Val_loss: 1.0077 Val_acc : 64.00\n",
      "Early stopping epoch 38 , avg train_loss 0.5542253460735083, avg val loss 1.0076530687510967\n"
     ]
    },
    {
     "name": "stderr",
     "output_type": "stream",
     "text": [
      "\n",
      "100%|██████████| 32/32 [00:01<00:00, 18.98it/s]\n"
     ]
    },
    {
     "name": "stdout",
     "output_type": "stream",
     "text": [
      "fitting gmm\n"
     ]
    },
    {
     "name": "stderr",
     "output_type": "stream",
     "text": [
      "  0%|          | 0/276 [00:00<?, ?it/s]"
     ]
    },
    {
     "name": "stdout",
     "output_type": "stream",
     "text": [
      "finished pool prediction\n"
     ]
    },
    {
     "name": "stderr",
     "output_type": "stream",
     "text": [
      "100%|██████████| 276/276 [00:05<00:00, 51.92it/s]\n"
     ]
    },
    {
     "name": "stdout",
     "output_type": "stream",
     "text": [
      "finished gmm evaluation\n",
      "{'test_loss': 1.0589471911707669, 'train_loss': 0.5542253460735083, 'test_accuracy': 64.2, 'train_accuracy': 0.8155}\n",
      "Sampling result {'Base_examples_labelled': 50, 'OOD_examples_labelled': 0} 1\n"
     ]
    },
    {
     "name": "stderr",
     "output_type": "stream",
     "text": [
      "  0%|          | 0/100 [00:00<?, ?it/s]"
     ]
    },
    {
     "name": "stdout",
     "output_type": "stream",
     "text": [
      "Using Testing data to create validation dataset, size : 1000\n",
      "\n",
      "Training with device : cuda:0\n",
      "Number of Training Samples :  2050\n",
      "Number of Validation Samples :  1000\n",
      "Number of Epochs :  100\n",
      "======================================================================\n",
      "Layer (type:depth-idx)                        Param #\n",
      "======================================================================\n",
      "├─BatchNorm2d: 1-1                            32\n",
      "├─Conv2d: 1-2                                 432\n",
      "├─Sequential: 1-3                             --\n",
      "|    └─BasicBlock: 2-1                        --\n",
      "|    |    └─Conv2d: 3-1                       2,304\n",
      "|    |    └─BatchNorm2d: 3-2                  32\n",
      "|    |    └─Conv2d: 3-3                       2,304\n",
      "|    |    └─BatchNorm2d: 3-4                  32\n",
      "|    |    └─Sequential: 3-5                   --\n",
      "|    └─BasicBlock: 2-2                        --\n",
      "|    |    └─Conv2d: 3-6                       2,304\n",
      "|    |    └─BatchNorm2d: 3-7                  32\n",
      "|    |    └─Conv2d: 3-8                       2,304\n",
      "|    |    └─BatchNorm2d: 3-9                  32\n",
      "|    |    └─Sequential: 3-10                  --\n",
      "|    └─BasicBlock: 2-3                        --\n",
      "|    |    └─Conv2d: 3-11                      2,304\n",
      "|    |    └─BatchNorm2d: 3-12                 32\n",
      "|    |    └─Conv2d: 3-13                      2,304\n",
      "|    |    └─BatchNorm2d: 3-14                 32\n",
      "|    |    └─Sequential: 3-15                  --\n",
      "├─Sequential: 1-4                             --\n",
      "|    └─BasicBlock: 2-4                        --\n",
      "|    |    └─Conv2d: 3-16                      4,608\n",
      "|    |    └─BatchNorm2d: 3-17                 64\n",
      "|    |    └─Conv2d: 3-18                      9,216\n",
      "|    |    └─BatchNorm2d: 3-19                 64\n",
      "|    |    └─Sequential: 3-20                  --\n",
      "|    └─BasicBlock: 2-5                        --\n",
      "|    |    └─Conv2d: 3-21                      9,216\n",
      "|    |    └─BatchNorm2d: 3-22                 64\n",
      "|    |    └─Conv2d: 3-23                      9,216\n",
      "|    |    └─BatchNorm2d: 3-24                 64\n",
      "|    |    └─Sequential: 3-25                  --\n",
      "|    └─BasicBlock: 2-6                        --\n",
      "|    |    └─Conv2d: 3-26                      9,216\n",
      "|    |    └─BatchNorm2d: 3-27                 64\n",
      "|    |    └─Conv2d: 3-28                      9,216\n",
      "|    |    └─BatchNorm2d: 3-29                 64\n",
      "|    |    └─Sequential: 3-30                  --\n",
      "├─Sequential: 1-5                             --\n",
      "|    └─BasicBlock: 2-7                        --\n",
      "|    |    └─Conv2d: 3-31                      18,432\n",
      "|    |    └─BatchNorm2d: 3-32                 128\n",
      "|    |    └─Conv2d: 3-33                      36,864\n",
      "|    |    └─BatchNorm2d: 3-34                 128\n",
      "|    |    └─Sequential: 3-35                  --\n",
      "|    └─BasicBlock: 2-8                        --\n",
      "|    |    └─Conv2d: 3-36                      36,864\n",
      "|    |    └─BatchNorm2d: 3-37                 128\n",
      "|    |    └─Conv2d: 3-38                      36,864\n",
      "|    |    └─BatchNorm2d: 3-39                 128\n",
      "|    |    └─Sequential: 3-40                  --\n",
      "|    └─BasicBlock: 2-9                        --\n",
      "|    |    └─Conv2d: 3-41                      36,864\n",
      "|    |    └─BatchNorm2d: 3-42                 128\n",
      "|    |    └─Conv2d: 3-43                      36,864\n",
      "|    |    └─BatchNorm2d: 3-44                 128\n",
      "|    |    └─Sequential: 3-45                  --\n",
      "├─Linear: 1-6                                 2,570\n",
      "├─Softmax: 1-7                                --\n",
      "======================================================================\n",
      "Total params: 271,642\n",
      "Trainable params: 271,642\n",
      "Non-trainable params: 0\n",
      "======================================================================\n",
      "INFO ------ Early Stopping Patience not specified using 10\n",
      "\n",
      "Epoch: 1\n"
     ]
    },
    {
     "name": "stderr",
     "output_type": "stream",
     "text": [
      "  1%|          | 1/100 [00:06<09:56,  6.03s/it]"
     ]
    },
    {
     "name": "stdout",
     "output_type": "stream",
     "text": [
      "Validation loss decreased (inf --> 1.938250).  Saving model ...\n",
      "Val_loss: 1.9382 Val_acc : 28.00\n",
      "Train_loss: 2.0726 Train_acc : 25.46\n",
      "\n",
      "Epoch: 2\n"
     ]
    },
    {
     "name": "stderr",
     "output_type": "stream",
     "text": [
      "  2%|▏         | 2/100 [00:10<08:11,  5.01s/it]"
     ]
    },
    {
     "name": "stdout",
     "output_type": "stream",
     "text": [
      "Validation loss decreased (1.938250 --> 1.776451).  Saving model ...\n",
      "Val_loss: 1.7765 Val_acc : 33.40\n",
      "Train_loss: 1.9054 Train_acc : 29.51\n",
      "\n",
      "Epoch: 3\n"
     ]
    },
    {
     "name": "stderr",
     "output_type": "stream",
     "text": [
      "  3%|▎         | 3/100 [00:15<08:13,  5.09s/it]"
     ]
    },
    {
     "name": "stdout",
     "output_type": "stream",
     "text": [
      "Validation loss decreased (1.776451 --> 1.750879).  Saving model ...\n",
      "Val_loss: 1.7509 Val_acc : 34.50\n",
      "Train_loss: 1.7411 Train_acc : 34.20\n",
      "\n",
      "Epoch: 4\n"
     ]
    },
    {
     "name": "stderr",
     "output_type": "stream",
     "text": [
      "  4%|▍         | 4/100 [00:19<07:45,  4.85s/it]"
     ]
    },
    {
     "name": "stdout",
     "output_type": "stream",
     "text": [
      "EarlyStopping counter: 1 out of 10\n",
      "Val_loss: 2.0077 Val_acc : 30.80\n",
      "Train_loss: 1.6869 Train_acc : 36.88\n",
      "\n",
      "Epoch: 5\n"
     ]
    },
    {
     "name": "stderr",
     "output_type": "stream",
     "text": [
      "  4%|▍         | 4/100 [00:22<09:00,  5.63s/it]\n"
     ]
    },
    {
     "ename": "KeyboardInterrupt",
     "evalue": "",
     "output_type": "error",
     "traceback": [
      "\u001b[1;31m---------------------------------------------------------------------------\u001b[0m",
      "\u001b[1;31mKeyboardInterrupt\u001b[0m                         Traceback (most recent call last)",
      "\u001b[1;32m~\\AppData\\Local\\Temp/ipykernel_8092/1790282674.py\u001b[0m in \u001b[0;36m<module>\u001b[1;34m\u001b[0m\n\u001b[0;32m      1\u001b[0m \u001b[0mexp_ddu_old\u001b[0m\u001b[1;33m=\u001b[0m\u001b[0mexperiment_ddu\u001b[0m\u001b[1;33m(\u001b[0m\u001b[0mbasic_settings\u001b[0m\u001b[1;33m,\u001b[0m\u001b[0mexp_settings\u001b[0m\u001b[1;33m,\u001b[0m \u001b[0mlog_path\u001b[0m\u001b[1;33m,\u001b[0m \u001b[0mwriter\u001b[0m\u001b[1;33m)\u001b[0m\u001b[1;33m\u001b[0m\u001b[1;33m\u001b[0m\u001b[0m\n\u001b[1;32m----> 2\u001b[1;33m \u001b[0mexp_ddu_old\u001b[0m\u001b[1;33m.\u001b[0m\u001b[0mperform_old_experiment\u001b[0m\u001b[1;33m(\u001b[0m\u001b[1;33m)\u001b[0m\u001b[1;33m\u001b[0m\u001b[1;33m\u001b[0m\u001b[0m\n\u001b[0m",
      "\u001b[1;32mc:\\Users\\nk\\Python-proj\\SRP\\SRPFixedSoftmax\\robust_active_learning\\experiment_ddu.py\u001b[0m in \u001b[0;36mperform_old_experiment\u001b[1;34m(self)\u001b[0m\n\u001b[0;32m    625\u001b[0m             \u001b[0mself\u001b[0m\u001b[1;33m.\u001b[0m\u001b[0mcreate_optimizer\u001b[0m\u001b[1;33m(\u001b[0m\u001b[1;33m)\u001b[0m\u001b[1;33m\u001b[0m\u001b[1;33m\u001b[0m\u001b[0m\n\u001b[0;32m    626\u001b[0m \u001b[1;33m\u001b[0m\u001b[0m\n\u001b[1;32m--> 627\u001b[1;33m             self.train(\n\u001b[0m\u001b[0;32m    628\u001b[0m                 \u001b[0mself\u001b[0m\u001b[1;33m.\u001b[0m\u001b[0mtrain_loader\u001b[0m\u001b[1;33m,\u001b[0m\u001b[1;33m\u001b[0m\u001b[1;33m\u001b[0m\u001b[0m\n\u001b[0;32m    629\u001b[0m                 \u001b[0mself\u001b[0m\u001b[1;33m.\u001b[0m\u001b[0mval_loader\u001b[0m\u001b[1;33m,\u001b[0m\u001b[1;33m\u001b[0m\u001b[1;33m\u001b[0m\u001b[0m\n",
      "\u001b[1;32mc:\\Users\\nk\\Python-proj\\SRP\\SRPFixedSoftmax\\robust_active_learning\\experiment_ddu.py\u001b[0m in \u001b[0;36mtrain\u001b[1;34m(self, train_loader, val_loader, optimizer, criterion, device, **kwargs)\u001b[0m\n\u001b[0;32m    164\u001b[0m                     \u001b[0mtrain_acc\u001b[0m \u001b[1;33m+=\u001b[0m \u001b[0mtorch\u001b[0m\u001b[1;33m.\u001b[0m\u001b[0msum\u001b[0m\u001b[1;33m(\u001b[0m\u001b[0mtorch\u001b[0m\u001b[1;33m.\u001b[0m\u001b[0margmax\u001b[0m\u001b[1;33m(\u001b[0m\u001b[0myhat\u001b[0m\u001b[1;33m,\u001b[0m \u001b[0mdim\u001b[0m\u001b[1;33m=\u001b[0m\u001b[1;36m1\u001b[0m\u001b[1;33m)\u001b[0m \u001b[1;33m==\u001b[0m \u001b[0mtarget\u001b[0m\u001b[1;33m)\u001b[0m\u001b[1;33m.\u001b[0m\u001b[0mitem\u001b[0m\u001b[1;33m(\u001b[0m\u001b[1;33m)\u001b[0m\u001b[1;33m\u001b[0m\u001b[1;33m\u001b[0m\u001b[0m\n\u001b[0;32m    165\u001b[0m \u001b[1;33m\u001b[0m\u001b[0m\n\u001b[1;32m--> 166\u001b[1;33m                     \u001b[0mloss\u001b[0m\u001b[1;33m.\u001b[0m\u001b[0mbackward\u001b[0m\u001b[1;33m(\u001b[0m\u001b[1;33m)\u001b[0m\u001b[1;33m\u001b[0m\u001b[1;33m\u001b[0m\u001b[0m\n\u001b[0m\u001b[0;32m    167\u001b[0m                     \u001b[0moptimizer\u001b[0m\u001b[1;33m.\u001b[0m\u001b[0mstep\u001b[0m\u001b[1;33m(\u001b[0m\u001b[1;33m)\u001b[0m\u001b[1;33m\u001b[0m\u001b[1;33m\u001b[0m\u001b[0m\n\u001b[0;32m    168\u001b[0m                 \u001b[1;32melse\u001b[0m\u001b[1;33m:\u001b[0m\u001b[1;33m\u001b[0m\u001b[1;33m\u001b[0m\u001b[0m\n",
      "\u001b[1;32mc:\\Users\\nk\\Python-proj\\SRP\\SRPHildesheim2021\\.venv\\lib\\site-packages\\torch\\_tensor.py\u001b[0m in \u001b[0;36mbackward\u001b[1;34m(self, gradient, retain_graph, create_graph, inputs)\u001b[0m\n\u001b[0;32m    253\u001b[0m                 \u001b[0mcreate_graph\u001b[0m\u001b[1;33m=\u001b[0m\u001b[0mcreate_graph\u001b[0m\u001b[1;33m,\u001b[0m\u001b[1;33m\u001b[0m\u001b[1;33m\u001b[0m\u001b[0m\n\u001b[0;32m    254\u001b[0m                 inputs=inputs)\n\u001b[1;32m--> 255\u001b[1;33m         \u001b[0mtorch\u001b[0m\u001b[1;33m.\u001b[0m\u001b[0mautograd\u001b[0m\u001b[1;33m.\u001b[0m\u001b[0mbackward\u001b[0m\u001b[1;33m(\u001b[0m\u001b[0mself\u001b[0m\u001b[1;33m,\u001b[0m \u001b[0mgradient\u001b[0m\u001b[1;33m,\u001b[0m \u001b[0mretain_graph\u001b[0m\u001b[1;33m,\u001b[0m \u001b[0mcreate_graph\u001b[0m\u001b[1;33m,\u001b[0m \u001b[0minputs\u001b[0m\u001b[1;33m=\u001b[0m\u001b[0minputs\u001b[0m\u001b[1;33m)\u001b[0m\u001b[1;33m\u001b[0m\u001b[1;33m\u001b[0m\u001b[0m\n\u001b[0m\u001b[0;32m    256\u001b[0m \u001b[1;33m\u001b[0m\u001b[0m\n\u001b[0;32m    257\u001b[0m     \u001b[1;32mdef\u001b[0m \u001b[0mregister_hook\u001b[0m\u001b[1;33m(\u001b[0m\u001b[0mself\u001b[0m\u001b[1;33m,\u001b[0m \u001b[0mhook\u001b[0m\u001b[1;33m)\u001b[0m\u001b[1;33m:\u001b[0m\u001b[1;33m\u001b[0m\u001b[1;33m\u001b[0m\u001b[0m\n",
      "\u001b[1;32mc:\\Users\\nk\\Python-proj\\SRP\\SRPHildesheim2021\\.venv\\lib\\site-packages\\torch\\autograd\\__init__.py\u001b[0m in \u001b[0;36mbackward\u001b[1;34m(tensors, grad_tensors, retain_graph, create_graph, grad_variables, inputs)\u001b[0m\n\u001b[0;32m    145\u001b[0m         \u001b[0mretain_graph\u001b[0m \u001b[1;33m=\u001b[0m \u001b[0mcreate_graph\u001b[0m\u001b[1;33m\u001b[0m\u001b[1;33m\u001b[0m\u001b[0m\n\u001b[0;32m    146\u001b[0m \u001b[1;33m\u001b[0m\u001b[0m\n\u001b[1;32m--> 147\u001b[1;33m     Variable._execution_engine.run_backward(\n\u001b[0m\u001b[0;32m    148\u001b[0m         \u001b[0mtensors\u001b[0m\u001b[1;33m,\u001b[0m \u001b[0mgrad_tensors_\u001b[0m\u001b[1;33m,\u001b[0m \u001b[0mretain_graph\u001b[0m\u001b[1;33m,\u001b[0m \u001b[0mcreate_graph\u001b[0m\u001b[1;33m,\u001b[0m \u001b[0minputs\u001b[0m\u001b[1;33m,\u001b[0m\u001b[1;33m\u001b[0m\u001b[1;33m\u001b[0m\u001b[0m\n\u001b[0;32m    149\u001b[0m         allow_unreachable=True, accumulate_grad=True)  # allow_unreachable flag\n",
      "\u001b[1;31mKeyboardInterrupt\u001b[0m: "
     ]
    }
   ],
   "source": [
    "exp_ddu_old=experiment_ddu(basic_settings,exp_settings, log_path, writer)\n",
    "exp_ddu_old.perform_old_experiment()"
   ]
  }
 ],
 "metadata": {
  "interpreter": {
   "hash": "f81cb8167ba0d2c55e83ce55d6b90fb05a826bc02a259d06b2f2b1cb35f7d5d1"
  },
  "kernelspec": {
   "display_name": "Python 3.9.2 64-bit ('.venv': venv)",
   "name": "python3"
  },
  "language_info": {
   "codemirror_mode": {
    "name": "ipython",
    "version": 3
   },
   "file_extension": ".py",
   "mimetype": "text/x-python",
   "name": "python",
   "nbconvert_exporter": "python",
   "pygments_lexer": "ipython3",
   "version": "3.9.2"
  },
  "orig_nbformat": 4
 },
 "nbformat": 4,
 "nbformat_minor": 2
}
